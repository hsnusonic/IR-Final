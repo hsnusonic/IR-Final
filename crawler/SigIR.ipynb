{
 "metadata": {
  "name": "",
  "signature": "sha256:3254a73305380d7c08a88894cef12b2432ffde1afb820b9d832405ca9cd7845e"
 },
 "nbformat": 3,
 "nbformat_minor": 0,
 "worksheets": [
  {
   "cells": [
    {
     "cell_type": "code",
     "collapsed": false,
     "input": [
      "import requests"
     ],
     "language": "python",
     "metadata": {},
     "outputs": [],
     "prompt_number": 6
    },
    {
     "cell_type": "code",
     "collapsed": false,
     "input": [
      "res = requests.get(\"http://dl.acm.org/citation.cfm?id=2617557&preflayout=flat\")"
     ],
     "language": "python",
     "metadata": {},
     "outputs": [],
     "prompt_number": 9
    },
    {
     "cell_type": "code",
     "collapsed": false,
     "input": [
      "res.encoding"
     ],
     "language": "python",
     "metadata": {},
     "outputs": [
      {
       "metadata": {},
       "output_type": "pyout",
       "prompt_number": 22,
       "text": [
        "'UTF-8'"
       ]
      }
     ],
     "prompt_number": 22
    },
    {
     "cell_type": "markdown",
     "metadata": {},
     "source": [
      "### **Save text to file**"
     ]
    },
    {
     "cell_type": "code",
     "collapsed": false,
     "input": [
      "with open('sigir.html', 'w') as f:\n",
      "    f.write(res.text)"
     ],
     "language": "python",
     "metadata": {},
     "outputs": [],
     "prompt_number": 4
    },
    {
     "cell_type": "markdown",
     "metadata": {},
     "source": [
      "### ** Extract the table of contents **\n",
      "after \"next proceeding\""
     ]
    },
    {
     "cell_type": "code",
     "collapsed": false,
     "input": [
      "content = res.text.split(\"next proceeding\")[1]\n",
      "for x in content.splitlines()[:50]:\n",
      "    if x != '':\n",
      "        print x "
     ],
     "language": "python",
     "metadata": {},
     "outputs": [
      {
       "output_type": "stream",
       "stream": "stdout",
       "text": [
        "</span></div>\n",
        "        \n",
        "</div>\n",
        " \n",
        "<table class=\"text12\" border=\"0\">\n",
        "  <tr>\n",
        "  <td></td>\n",
        "  <td colspan=\"2\">SESSION: <strong>Athena award lecture</strong></td>\n",
        "  </tr>\n",
        "  \n",
        "          <tr>\n",
        "          <td></td>\n",
        "          <td>\n",
        "          <span style=\"padding-left:0\">\n",
        "          Marti A. Hearst \n",
        "          </span>    \n",
        "          </td>\n",
        "          </tr>\n",
        "          \n",
        "          <tr>\n",
        "          <td></td>\n",
        "          <td style=\"padding-bottom:5px;\">\n",
        "          \n",
        "          </td>\n",
        "          </tr>\n",
        "          \n",
        "  <tr>\n",
        "  <td></td>\n",
        "  <td colspan=\"1\"><span style=\"padding-left:20\"><a href=\"citation.cfm?id=2617557&CFID=682858781&CFTOKEN=43525391\">Putting searchers into search</a></span></td>\n",
        "  </tr>\n",
        "  \n",
        "          <tr>\n",
        "          <td></td>\n",
        "          <td>\n",
        "          <span style=\"padding-left:20\">\n",
        "          \n",
        "                        <a href=\"author_page.cfm?id=81100134501&CFID=682858781&CFTOKEN=43525391\">Susan T. Dumais</a> \n",
        "          </span>    \n",
        "          </td>\n",
        "          </tr>\n",
        "          \n",
        "          <tr>\n",
        "          <td></td>\n",
        "          <td> <span style=\"padding-left:20\">Pages: 1-2</span></td>\n",
        "          </tr>\n"
       ]
      }
     ],
     "prompt_number": 38
    },
    {
     "cell_type": "markdown",
     "metadata": {},
     "source": [
      "### **Use regular expression to parse data**\n",
      "find (id, CFID, CFTOKEN) for each paper"
     ]
    },
    {
     "cell_type": "code",
     "collapsed": false,
     "input": [
      "import re"
     ],
     "language": "python",
     "metadata": {},
     "outputs": [],
     "prompt_number": 12
    },
    {
     "cell_type": "code",
     "collapsed": false,
     "input": [
      "p = re.compile(ur'citation\\.cfm\\?id=(\\d*?)&CFID=(\\d*?)&CFTOKEN=(\\d*?)\"')\n",
      "content_list = re.findall(p,  content)\n",
      "print content_list[0]"
     ],
     "language": "python",
     "metadata": {},
     "outputs": [
      {
       "output_type": "stream",
       "stream": "stdout",
       "text": [
        "(u'2617557', u'682858781', u'43525391')\n"
       ]
      }
     ],
     "prompt_number": 50
    },
    {
     "cell_type": "code",
     "collapsed": false,
     "input": [
      "def parameter(content_param):\n",
      "    param = {\n",
      "    'preflatout':'flat',\n",
      "    'id': content_param[0],\n",
      "    'CFID': content_param[1],\n",
      "    'CFTOKEN': content_param[2]\n",
      "}\n",
      "    return param"
     ],
     "language": "python",
     "metadata": {},
     "outputs": [],
     "prompt_number": 61
    },
    {
     "cell_type": "code",
     "collapsed": false,
     "input": [
      "res2 = requests.get(\"http://dl.acm.org/citation.cfm\", params = parameter(content_list[0]))"
     ],
     "language": "python",
     "metadata": {},
     "outputs": [],
     "prompt_number": 62
    },
    {
     "cell_type": "markdown",
     "metadata": {},
     "source": [
      "### ** Send request to each page in  the content_list **"
     ]
    },
    {
     "cell_type": "code",
     "collapsed": false,
     "input": [
      "from bs4 import BeautifulSoup\n",
      "import time\n",
      "import random"
     ],
     "language": "python",
     "metadata": {},
     "outputs": [],
     "prompt_number": 71
    },
    {
     "cell_type": "code",
     "collapsed": false,
     "input": [
      "paper_names = []\n",
      "for params in content_list:\n",
      "    try:\n",
      "        res_tmp = requests.get(\"http://dl.acm.org/citation.cfm\", params = parameter(params))\n",
      "        soup = BeautifulSoup(res_tmp.text)\n",
      "        paper_names.append(soup.find('strong').contents)\n",
      "        time.sleep(1+random.random())\n",
      "    except:\n",
      "        print \"Connection Error: paper id = {0}\".format(params[0])"
     ],
     "language": "python",
     "metadata": {},
     "outputs": [
      {
       "output_type": "stream",
       "stream": "stdout",
       "text": [
        "Connection Error: paper id = 2617557\n",
        "Connection Error: paper id = 2609579"
       ]
      },
      {
       "output_type": "stream",
       "stream": "stdout",
       "text": [
        "\n",
        "Connection Error: paper id = 2609563"
       ]
      },
      {
       "output_type": "stream",
       "stream": "stdout",
       "text": [
        "\n",
        "Connection Error: paper id = 2609635"
       ]
      },
      {
       "output_type": "stream",
       "stream": "stdout",
       "text": [
        "\n",
        "Connection Error: paper id = 2609629"
       ]
      },
      {
       "output_type": "stream",
       "stream": "stdout",
       "text": [
        "\n",
        "Connection Error: paper id = 2609637"
       ]
      },
      {
       "output_type": "stream",
       "stream": "stdout",
       "text": [
        "\n",
        "Connection Error: paper id = 2609603"
       ]
      },
      {
       "output_type": "stream",
       "stream": "stdout",
       "text": [
        "\n",
        "Connection Error: paper id = 2609608"
       ]
      },
      {
       "output_type": "stream",
       "stream": "stdout",
       "text": [
        "\n",
        "Connection Error: paper id = 2609470"
       ]
      },
      {
       "output_type": "stream",
       "stream": "stdout",
       "text": [
        "\n",
        "Connection Error: paper id = 2609493"
       ]
      },
      {
       "output_type": "stream",
       "stream": "stdout",
       "text": [
        "\n",
        "Connection Error: paper id = 2609494"
       ]
      },
      {
       "output_type": "stream",
       "stream": "stdout",
       "text": [
        "\n",
        "Connection Error: paper id = 2609526"
       ]
      },
      {
       "output_type": "stream",
       "stream": "stdout",
       "text": [
        "\n",
        "Connection Error: paper id = 2609545"
       ]
      },
      {
       "output_type": "stream",
       "stream": "stdout",
       "text": [
        "\n",
        "Connection Error: paper id = 2611181"
       ]
      },
      {
       "output_type": "stream",
       "stream": "stdout",
       "text": [
        "\n",
        "Connection Error: paper id = 2611182"
       ]
      },
      {
       "output_type": "stream",
       "stream": "stdout",
       "text": [
        "\n",
        "Connection Error: paper id = 2611183"
       ]
      },
      {
       "output_type": "stream",
       "stream": "stdout",
       "text": [
        "\n",
        "Connection Error: paper id = 2611184"
       ]
      },
      {
       "output_type": "stream",
       "stream": "stdout",
       "text": [
        "\n",
        "Connection Error: paper id = 2611185"
       ]
      },
      {
       "output_type": "stream",
       "stream": "stdout",
       "text": [
        "\n",
        "Connection Error: paper id = 2611186"
       ]
      },
      {
       "output_type": "stream",
       "stream": "stdout",
       "text": [
        "\n",
        "Connection Error: paper id = 2611187"
       ]
      },
      {
       "output_type": "stream",
       "stream": "stdout",
       "text": [
        "\n",
        "Connection Error: paper id = 2611188"
       ]
      },
      {
       "output_type": "stream",
       "stream": "stdout",
       "text": [
        "\n",
        "Connection Error: paper id = 2611189"
       ]
      },
      {
       "output_type": "stream",
       "stream": "stdout",
       "text": [
        "\n",
        "Connection Error: paper id = 2611190"
       ]
      },
      {
       "output_type": "stream",
       "stream": "stdout",
       "text": [
        "\n",
        "Connection Error: paper id = 2610376"
       ]
      },
      {
       "output_type": "stream",
       "stream": "stdout",
       "text": [
        "\n",
        "Connection Error: paper id = 2610377"
       ]
      },
      {
       "output_type": "stream",
       "stream": "stdout",
       "text": [
        "\n",
        "Connection Error: paper id = 2610378"
       ]
      },
      {
       "output_type": "stream",
       "stream": "stdout",
       "text": [
        "\n",
        "Connection Error: paper id = 2610379"
       ]
      },
      {
       "output_type": "stream",
       "stream": "stdout",
       "text": [
        "\n",
        "Connection Error: paper id = 2610380"
       ]
      },
      {
       "output_type": "stream",
       "stream": "stdout",
       "text": [
        "\n",
        "Connection Error: paper id = 2610381"
       ]
      },
      {
       "output_type": "stream",
       "stream": "stdout",
       "text": [
        "\n",
        "Connection Error: paper id = 2610382"
       ]
      },
      {
       "output_type": "stream",
       "stream": "stdout",
       "text": [
        "\n",
        "Connection Error: paper id = 2610383"
       ]
      },
      {
       "output_type": "stream",
       "stream": "stdout",
       "text": [
        "\n",
        "Connection Error: paper id = 2602289"
       ]
      },
      {
       "output_type": "stream",
       "stream": "stdout",
       "text": [
        "\n",
        "Connection Error: paper id = 2602290"
       ]
      },
      {
       "output_type": "stream",
       "stream": "stdout",
       "text": [
        "\n",
        "Connection Error: paper id = 2602291"
       ]
      },
      {
       "output_type": "stream",
       "stream": "stdout",
       "text": [
        "\n",
        "Connection Error: paper id = 2602292"
       ]
      },
      {
       "output_type": "stream",
       "stream": "stdout",
       "text": [
        "\n",
        "Connection Error: paper id = 2602293"
       ]
      },
      {
       "output_type": "stream",
       "stream": "stdout",
       "text": [
        "\n",
        "Connection Error: paper id = 2602294"
       ]
      },
      {
       "output_type": "stream",
       "stream": "stdout",
       "text": [
        "\n",
        "Connection Error: paper id = 2602296"
       ]
      },
      {
       "output_type": "stream",
       "stream": "stdout",
       "text": [
        "\n",
        "Connection Error: paper id = 2602297"
       ]
      },
      {
       "output_type": "stream",
       "stream": "stdout",
       "text": [
        "\n",
        "Connection Error: paper id = 2602298"
       ]
      },
      {
       "output_type": "stream",
       "stream": "stdout",
       "text": [
        "\n",
        "Connection Error: paper id = 2600734"
       ]
      },
      {
       "output_type": "stream",
       "stream": "stdout",
       "text": [
        "\n",
        "Connection Error: paper id = 2600735"
       ]
      },
      {
       "output_type": "stream",
       "stream": "stdout",
       "text": [
        "\n",
        "Connection Error: paper id = 2600736"
       ]
      },
      {
       "output_type": "stream",
       "stream": "stdout",
       "text": [
        "\n",
        "Connection Error: paper id = 2600737"
       ]
      },
      {
       "output_type": "stream",
       "stream": "stdout",
       "text": [
        "\n",
        "Connection Error: paper id = 2600738"
       ]
      },
      {
       "output_type": "stream",
       "stream": "stdout",
       "text": [
        "\n",
        "Connection Error: paper id = 2600739"
       ]
      },
      {
       "output_type": "stream",
       "stream": "stdout",
       "text": [
        "\n",
        "Connection Error: paper id = 2600740"
       ]
      },
      {
       "output_type": "stream",
       "stream": "stdout",
       "text": [
        "\n"
       ]
      }
     ],
     "prompt_number": 74
    },
    {
     "cell_type": "code",
     "collapsed": false,
     "input": [
      "paper_names[:10]"
     ],
     "language": "python",
     "metadata": {},
     "outputs": [
      {
       "metadata": {},
       "output_type": "pyout",
       "prompt_number": 83,
       "text": [
        "[[u'Modelling interaction with economic models of search'],\n",
        " [u'Query-performance prediction: setting the expectations straight'],\n",
        " [u'Hypothesis testing for the risk-sensitive evaluation of retrieval systems'],\n",
        " [u'Temporal feedback for tweet search with non-parametric density estimation'],\n",
        " [u'Fine-grained location extraction from tweets with temporal awareness'],\n",
        " [u'Collaborative personalized Twitter search with topic-language models'],\n",
        " [u'Gaussian process factorization machines for context-aware recommendations'],\n",
        " [u'Addressing cold start in recommender systems: a semi-supervised co-training algorithm'],\n",
        " [u'Context-aware web search abandonment prediction'],\n",
        " [u'Impact of response latency on user behavior in web search']]"
       ]
      }
     ],
     "prompt_number": 83
    }
   ],
   "metadata": {}
  }
 ]
}